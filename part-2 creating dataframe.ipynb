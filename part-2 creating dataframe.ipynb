{
 "cells": [
  {
   "cell_type": "markdown",
   "id": "e4ec462a-0fd7-49f3-9810-a3790d0bcdd7",
   "metadata": {},
   "source": [
    "## creating the dataframe "
   ]
  },
  {
   "cell_type": "code",
   "execution_count": 2,
   "id": "27fc5a51-685f-4daf-908a-34056daa1012",
   "metadata": {},
   "outputs": [
    {
     "name": "stdout",
     "output_type": "stream",
     "text": [
      "content of ndarray\n",
      "['Rossum' 'Travis' 'Kinni' 'Dinnes']\n",
      "dataframe\n",
      "        0\n",
      "0  Rossum\n",
      "1  Travis\n",
      "2   Kinni\n",
      "3  Dinnes\n"
     ]
    }
   ],
   "source": [
    "# creating an object of dataframe by using the ndarray object\n",
    "import numpy as np\n",
    "import pandas as pd\n",
    "# creating the ndarray\n",
    "a=np.array([\"Rossum\",\"Travis\",\"Kinni\",\"Dinnes\"])\n",
    "print(\"content of ndarray\")\n",
    "print(a)\n",
    "# creaing the dataframe by using the ndarry\n",
    "df=pd.DataFrame(a)\n",
    "print(\"dataframe\")\n",
    "print(df)"
   ]
  },
  {
   "cell_type": "code",
   "execution_count": 6,
   "id": "da0ed89c-806a-4b00-ad7a-c733c37502e4",
   "metadata": {},
   "outputs": [
    {
     "name": "stdout",
     "output_type": "stream",
     "text": [
      "content of ndarray\n",
      "['Rossum' 'Travis' 'Kinni' 'Dinnes']\n",
      "==================================================\n",
      "      NAME\n",
      "R1  Rossum\n",
      "R2  Travis\n",
      "R3   Kinni\n",
      "R4  Dinnes\n",
      "==================================================\n"
     ]
    }
   ],
   "source": [
    "# creating an object of dataframe by using the ndarray object\n",
    "import numpy as np\n",
    "import pandas as pd\n",
    "# creating the ndarray\n",
    "a=np.array([\"Rossum\",\"Travis\",\"Kinni\",\"Dinnes\"])\n",
    "print(\"content of ndarray\")\n",
    "print(a)\n",
    "# creaing the dataframe by using the ndarry\n",
    "# creating the user defined index and columns \n",
    "print(\"=\"*50)\n",
    "df=pd.DataFrame(a,index=[\"R\"+str(i) for i in range(1,5)],columns=[\"NAME\"])\n",
    "print(df)\n",
    "print(\"=\"*50)"
   ]
  },
  {
   "cell_type": "code",
   "execution_count": 14,
   "id": "bb7e1f16-715d-4172-9ee2-7d06ee0b909d",
   "metadata": {},
   "outputs": [
    {
     "name": "stdout",
     "output_type": "stream",
     "text": [
      "content of series object\n",
      "0     Rossum\n",
      "1     Travis\n",
      "2      Kinny\n",
      "3     Dennis\n",
      "4    JHunter\n",
      "dtype: object\n",
      "--------------------------------------------------\n",
      "dataframe\n",
      "++++++++++++++++++++++++++++++++++++++++++++++++++\n",
      "         0\n",
      "0   Rossum\n",
      "1   Travis\n",
      "2    Kinny\n",
      "3   Dennis\n",
      "4  JHunter\n",
      "--------------------------------------------------\n"
     ]
    }
   ],
   "source": [
    "# creating an object of dataframe by using series object \n",
    "s=pd.Series([\"Rossum\",\"Travis\",\"Kinny\",\"Dennis\",\"JHunter\"])\n",
    "print(\"content of series object\")\n",
    "print(s)\n",
    "print(\"-\"*50)\n",
    "print(\"dataframe\")\n",
    "print(\"+\"*50)\n",
    "df=pd.DataFrame(s)\n",
    "print(df)\n",
    "print(\"-\"*50)"
   ]
  },
  {
   "cell_type": "code",
   "execution_count": 16,
   "id": "2cf10379-cee0-4f4c-b478-fd4deb180e8f",
   "metadata": {},
   "outputs": [
    {
     "name": "stdout",
     "output_type": "stream",
     "text": [
      "    YearsExperience  Salary\n",
      "0               1.1   39343\n",
      "1               1.3   46205\n",
      "2               1.5   37731\n",
      "3               2.0   43525\n",
      "4               2.2   39891\n",
      "5               2.9   56642\n",
      "6               3.0   60150\n",
      "7               3.2   54445\n",
      "8               3.2   64445\n",
      "9               3.7   57189\n",
      "10              3.9   63218\n",
      "11              4.0   55794\n",
      "12              4.0   56957\n",
      "13              4.1   57081\n",
      "14              4.5   61111\n",
      "15              4.9   67938\n",
      "16              5.1   66029\n",
      "17              5.3   83088\n",
      "18              5.9   81363\n",
      "19              6.0   93940\n",
      "20              6.8   91738\n",
      "21              7.1   98273\n",
      "22              7.9  101302\n",
      "23              8.2  113812\n",
      "24              8.7  109431\n",
      "25              9.0  105582\n",
      "26              9.5  116969\n",
      "27              9.6  112635\n",
      "28             10.3  122391\n",
      "29             10.5  121872\n"
     ]
    }
   ],
   "source": [
    "# creating an object of dataframe by using the csv file \n",
    "df=pd.read_csv(\"C:\\\\placement notes\\\\Salary_Data.csv\")\n",
    "print(df)"
   ]
  },
  {
   "cell_type": "code",
   "execution_count": null,
   "id": "6f547ac6-b134-43d4-b8b0-50424b925b16",
   "metadata": {},
   "outputs": [],
   "source": []
  }
 ],
 "metadata": {
  "kernelspec": {
   "display_name": "Python 3 (ipykernel)",
   "language": "python",
   "name": "python3"
  },
  "language_info": {
   "codemirror_mode": {
    "name": "ipython",
    "version": 3
   },
   "file_extension": ".py",
   "mimetype": "text/x-python",
   "name": "python",
   "nbconvert_exporter": "python",
   "pygments_lexer": "ipython3",
   "version": "3.12.4"
  }
 },
 "nbformat": 4,
 "nbformat_minor": 5
}
